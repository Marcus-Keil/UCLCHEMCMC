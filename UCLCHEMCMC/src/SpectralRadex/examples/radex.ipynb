{
 "cells": [
  {
   "cell_type": "markdown",
   "metadata": {},
   "source": [
    "# Radex"
   ]
  },
  {
   "cell_type": "code",
   "execution_count": 21,
   "metadata": {},
   "outputs": [],
   "source": [
    "from spectralradex import radex\n",
    "from multiprocessing import Pool\n",
    "import numpy as np\n",
    "import time\n"
   ]
  },
  {
   "cell_type": "markdown",
   "metadata": {},
   "source": [
    "The simplest use case for SpectralRadex is to be a simple python wrapper for RADEX. This allows large grids of RADEX models or complex parameter inference procedures to be run in an environment suited to those tasks.\n",
    "\n",
    "If one wishes to run radex, we simply need a dictionary of the parameters RADEX expects. An example can be obtained using the ```get_default_parameters()``` function like so"
   ]
  },
  {
   "cell_type": "code",
   "execution_count": 9,
   "metadata": {},
   "outputs": [
    {
     "name": "stdout",
     "output_type": "stream",
     "text": [
      "{\n",
      "\tmolfile : co.dat\n",
      "\ttkin : 30.0\n",
      "\ttbg : 2.73\n",
      "\tcdmol : 10000000000000.0\n",
      "\th2 : 100000.0\n",
      "\th : 0.0\n",
      "\te- : 0.0\n",
      "\tp-h2 : 0.0\n",
      "\to-h2 : 0.0\n",
      "\th+ : 0.0\n",
      "\tlinewidth : 1.0\n",
      "\tfmin : 0.0\n",
      "\tfmax : 30000000.0\n",
      "}\n"
     ]
    }
   ],
   "source": [
    "params = radex.get_default_parameters()\n",
    "print(\"{\")\n",
    "for key,value in params.items():\n",
    "    print(f\"\\t{key} : {value}\")\n",
    "print(\"}\")"
   ]
  },
  {
   "cell_type": "markdown",
   "metadata": {},
   "source": [
    "and then we pass that to the ```run()``` function."
   ]
  },
  {
   "cell_type": "code",
   "execution_count": 11,
   "metadata": {},
   "outputs": [
    {
     "data": {
      "text/html": [
       "<div>\n",
       "<style scoped>\n",
       "    .dataframe tbody tr th:only-of-type {\n",
       "        vertical-align: middle;\n",
       "    }\n",
       "\n",
       "    .dataframe tbody tr th {\n",
       "        vertical-align: top;\n",
       "    }\n",
       "\n",
       "    .dataframe thead th {\n",
       "        text-align: right;\n",
       "    }\n",
       "</style>\n",
       "<table border=\"1\" class=\"dataframe\">\n",
       "  <thead>\n",
       "    <tr style=\"text-align: right;\">\n",
       "      <th></th>\n",
       "      <th>E_UP (K)</th>\n",
       "      <th>freq</th>\n",
       "      <th>WAVEL (um)</th>\n",
       "      <th>T_ex</th>\n",
       "      <th>tau</th>\n",
       "      <th>T_R (K)</th>\n",
       "      <th>POP UP</th>\n",
       "      <th>POP LOW</th>\n",
       "      <th>FLUX (K*km/s)</th>\n",
       "      <th>FLUX (erg/cm2/s)</th>\n",
       "      <th>Qup</th>\n",
       "      <th>Qlow</th>\n",
       "    </tr>\n",
       "  </thead>\n",
       "  <tbody>\n",
       "    <tr>\n",
       "      <th>0</th>\n",
       "      <td>5.53</td>\n",
       "      <td>115.271202</td>\n",
       "      <td>2600.757633</td>\n",
       "      <td>31.666252</td>\n",
       "      <td>0.000223</td>\n",
       "      <td>0.006275</td>\n",
       "      <td>0.246666</td>\n",
       "      <td>0.097917</td>\n",
       "      <td>0.006680</td>\n",
       "      <td>1.317591e-10</td>\n",
       "      <td>1</td>\n",
       "      <td>0</td>\n",
       "    </tr>\n",
       "    <tr>\n",
       "      <th>1</th>\n",
       "      <td>16.60</td>\n",
       "      <td>230.538000</td>\n",
       "      <td>1300.403656</td>\n",
       "      <td>29.262261</td>\n",
       "      <td>0.000735</td>\n",
       "      <td>0.017551</td>\n",
       "      <td>0.281677</td>\n",
       "      <td>0.246666</td>\n",
       "      <td>0.018683</td>\n",
       "      <td>2.947981e-09</td>\n",
       "      <td>2</td>\n",
       "      <td>1</td>\n",
       "    </tr>\n",
       "    <tr>\n",
       "      <th>2</th>\n",
       "      <td>33.19</td>\n",
       "      <td>345.795990</td>\n",
       "      <td>866.963374</td>\n",
       "      <td>26.640080</td>\n",
       "      <td>0.001112</td>\n",
       "      <td>0.021294</td>\n",
       "      <td>0.211510</td>\n",
       "      <td>0.281677</td>\n",
       "      <td>0.022667</td>\n",
       "      <td>1.207049e-08</td>\n",
       "      <td>3</td>\n",
       "      <td>2</td>\n",
       "    </tr>\n",
       "    <tr>\n",
       "      <th>3</th>\n",
       "      <td>55.32</td>\n",
       "      <td>461.040768</td>\n",
       "      <td>650.251515</td>\n",
       "      <td>24.363876</td>\n",
       "      <td>0.001022</td>\n",
       "      <td>0.015261</td>\n",
       "      <td>0.109663</td>\n",
       "      <td>0.211510</td>\n",
       "      <td>0.016246</td>\n",
       "      <td>2.050309e-08</td>\n",
       "      <td>4</td>\n",
       "      <td>3</td>\n",
       "    </tr>\n",
       "    <tr>\n",
       "      <th>4</th>\n",
       "      <td>82.97</td>\n",
       "      <td>576.267931</td>\n",
       "      <td>520.231028</td>\n",
       "      <td>22.798547</td>\n",
       "      <td>0.000605</td>\n",
       "      <td>0.007078</td>\n",
       "      <td>0.039845</td>\n",
       "      <td>0.109663</td>\n",
       "      <td>0.007535</td>\n",
       "      <td>1.856956e-08</td>\n",
       "      <td>5</td>\n",
       "      <td>4</td>\n",
       "    </tr>\n",
       "  </tbody>\n",
       "</table>\n",
       "</div>"
      ],
      "text/plain": [
       "   E_UP (K)        freq   WAVEL (um)       T_ex       tau   T_R (K)    POP UP  \\\n",
       "0      5.53  115.271202  2600.757633  31.666252  0.000223  0.006275  0.246666   \n",
       "1     16.60  230.538000  1300.403656  29.262261  0.000735  0.017551  0.281677   \n",
       "2     33.19  345.795990   866.963374  26.640080  0.001112  0.021294  0.211510   \n",
       "3     55.32  461.040768   650.251515  24.363876  0.001022  0.015261  0.109663   \n",
       "4     82.97  576.267931   520.231028  22.798547  0.000605  0.007078  0.039845   \n",
       "\n",
       "    POP LOW  FLUX (K*km/s)  FLUX (erg/cm2/s) Qup Qlow  \n",
       "0  0.097917       0.006680      1.317591e-10   1    0  \n",
       "1  0.246666       0.018683      2.947981e-09   2    1  \n",
       "2  0.281677       0.022667      1.207049e-08   3    2  \n",
       "3  0.211510       0.016246      2.050309e-08   4    3  \n",
       "4  0.109663       0.007535      1.856956e-08   5    4  "
      ]
     },
     "execution_count": 11,
     "metadata": {},
     "output_type": "execute_result"
    }
   ],
   "source": [
    "output = radex.run(params)\n",
    "output.head()"
   ]
  },
  {
   "cell_type": "markdown",
   "metadata": {},
   "source": [
    "## Parameter Grids\n",
    "It is more likely that one will want to run the code over many combinations of input parameters. This can be achieved via the ```run_grid()``` function. This function takes iterables for the three variables (density, temperature and column density) as well as fixed values for the other RADEX parameters. It then produces the RADEX output for all combinations of the three iterables."
   ]
  },
  {
   "cell_type": "code",
   "execution_count": 22,
   "metadata": {},
   "outputs": [
    {
     "name": "stdout",
     "output_type": "stream",
     "text": [
      "run_grid took 12.6135 seconds without a pool\n"
     ]
    }
   ],
   "source": [
    "tic = time.perf_counter()\n",
    "\n",
    "grid_df = radex.run_grid(density_values=np.arange(1.0e5, 1.0e6, 1.0e5), temperature_values=np.arange(10, 100, 10),\n",
    "                   column_density_values=np.arange(1.0e14, 1.0e15, 1.0e14), molfile='co.dat',\n",
    "                   target_value=\"T_R (K)\")\n",
    "toc = time.perf_counter()\n",
    "print(f\"run_grid took {toc-tic:0.4f} seconds without a pool\")"
   ]
  },
  {
   "cell_type": "code",
   "execution_count": 24,
   "metadata": {},
   "outputs": [
    {
     "data": {
      "text/html": [
       "<div>\n",
       "<style scoped>\n",
       "    .dataframe tbody tr th:only-of-type {\n",
       "        vertical-align: middle;\n",
       "    }\n",
       "\n",
       "    .dataframe tbody tr th {\n",
       "        vertical-align: top;\n",
       "    }\n",
       "\n",
       "    .dataframe thead th {\n",
       "        text-align: right;\n",
       "    }\n",
       "</style>\n",
       "<table border=\"1\" class=\"dataframe\">\n",
       "  <thead>\n",
       "    <tr style=\"text-align: right;\">\n",
       "      <th></th>\n",
       "      <th>Density</th>\n",
       "      <th>Temperature</th>\n",
       "      <th>Column Density</th>\n",
       "      <th>(1)-(0)[115.2712018 GHz]</th>\n",
       "      <th>(2)-(1)[230.538 GHz]</th>\n",
       "      <th>(3)-(2)[345.7959899 GHz]</th>\n",
       "    </tr>\n",
       "  </thead>\n",
       "  <tbody>\n",
       "    <tr>\n",
       "      <th>0</th>\n",
       "      <td>100000.0</td>\n",
       "      <td>10.0</td>\n",
       "      <td>1.000000e+14</td>\n",
       "      <td>0.102858</td>\n",
       "      <td>0.140506</td>\n",
       "      <td>0.054774</td>\n",
       "    </tr>\n",
       "    <tr>\n",
       "      <th>1</th>\n",
       "      <td>100000.0</td>\n",
       "      <td>20.0</td>\n",
       "      <td>1.000000e+14</td>\n",
       "      <td>0.079719</td>\n",
       "      <td>0.185064</td>\n",
       "      <td>0.166824</td>\n",
       "    </tr>\n",
       "    <tr>\n",
       "      <th>2</th>\n",
       "      <td>100000.0</td>\n",
       "      <td>30.0</td>\n",
       "      <td>1.000000e+14</td>\n",
       "      <td>0.062672</td>\n",
       "      <td>0.174883</td>\n",
       "      <td>0.211890</td>\n",
       "    </tr>\n",
       "    <tr>\n",
       "      <th>3</th>\n",
       "      <td>100000.0</td>\n",
       "      <td>40.0</td>\n",
       "      <td>1.000000e+14</td>\n",
       "      <td>0.051761</td>\n",
       "      <td>0.158660</td>\n",
       "      <td>0.224313</td>\n",
       "    </tr>\n",
       "    <tr>\n",
       "      <th>4</th>\n",
       "      <td>100000.0</td>\n",
       "      <td>50.0</td>\n",
       "      <td>1.000000e+14</td>\n",
       "      <td>0.044285</td>\n",
       "      <td>0.143712</td>\n",
       "      <td>0.223537</td>\n",
       "    </tr>\n",
       "  </tbody>\n",
       "</table>\n",
       "</div>"
      ],
      "text/plain": [
       "    Density  Temperature  Column Density  (1)-(0)[115.2712018 GHz]  \\\n",
       "0  100000.0         10.0    1.000000e+14                  0.102858   \n",
       "1  100000.0         20.0    1.000000e+14                  0.079719   \n",
       "2  100000.0         30.0    1.000000e+14                  0.062672   \n",
       "3  100000.0         40.0    1.000000e+14                  0.051761   \n",
       "4  100000.0         50.0    1.000000e+14                  0.044285   \n",
       "\n",
       "   (2)-(1)[230.538 GHz]  (3)-(2)[345.7959899 GHz]  \n",
       "0              0.140506                  0.054774  \n",
       "1              0.185064                  0.166824  \n",
       "2              0.174883                  0.211890  \n",
       "3              0.158660                  0.224313  \n",
       "4              0.143712                  0.223537  "
      ]
     },
     "execution_count": 24,
     "metadata": {},
     "output_type": "execute_result"
    }
   ],
   "source": [
    "grid_df.iloc[:,0:6].head()"
   ]
  },
  {
   "cell_type": "markdown",
   "metadata": {},
   "source": [
    "### Parallelization\n",
    "In order to be as flexible as possible, SpectralRadex has no built in multiprocessing. However, the ```run_grid()``` function does take the optional parameter ```pool``` which should be an object with ```map()```, ```join()```, and ```close()``` methods that allow functions to be evaluated in parallel. For example, the python standard [multiprocessing.pool](https://docs.python.org/3.6/library/multiprocessing.html) obect or Schwimmbad's [MPIPool](https://schwimmbad.readthedocs.io/en/latest/examples/#using-mpipool).\n",
    "\n",
    "If such an object is supplied, the grid will be evaluated in parallel. Note the time in the example below compared to the grid above."
   ]
  },
  {
   "cell_type": "code",
   "execution_count": 23,
   "metadata": {},
   "outputs": [
    {
     "name": "stdout",
     "output_type": "stream",
     "text": [
      "(728, 43)\n",
      "run_grid took 2.2611 seconds with a pool of 8 workers\n"
     ]
    }
   ],
   "source": [
    "tic = time.perf_counter()\n",
    "pool=Pool(8)\n",
    "grid_df = radex.run_grid(density_values=np.arange(1.0e5, 1.0e6, 1.0e5), temperature_values=np.arange(10, 100, 10),\n",
    "                   column_density_values=np.arange(1.0e14, 1.0e15, 1.0e14), molfile='co.dat',\n",
    "                   target_value=\"T_R (K)\",pool=pool)\n",
    "toc = time.perf_counter()\n",
    "print(f\"run_grid took {toc-tic:0.4f} seconds with a pool of 8 workers\")"
   ]
  }
 ],
 "metadata": {
  "kernelspec": {
   "display_name": "Python 3",
   "language": "python",
   "name": "python3"
  },
  "language_info": {
   "codemirror_mode": {
    "name": "ipython",
    "version": 3
   },
   "file_extension": ".py",
   "mimetype": "text/x-python",
   "name": "python",
   "nbconvert_exporter": "python",
   "pygments_lexer": "ipython3",
   "version": "3.7.6"
  }
 },
 "nbformat": 4,
 "nbformat_minor": 4
}
