{
 "cells": [
  {
   "cell_type": "markdown",
   "metadata": {},
   "source": [
    "# Spectral Modelling"
   ]
  },
  {
   "cell_type": "markdown",
   "metadata": {},
   "source": [
    "One of SpectralRadex's key features is the ability to generate model spectra from RADEX models. In this example, we show how to generate a spectrum."
   ]
  },
  {
   "cell_type": "code",
   "execution_count": 1,
   "metadata": {},
   "outputs": [],
   "source": [
    "import spectralradex\n",
    "from spectralradex import radex\n",
    "from pandas import DataFrame\n",
    "import matplotlib.pyplot as plt\n",
    "import numpy as np"
   ]
  },
  {
   "cell_type": "markdown",
   "metadata": {},
   "source": [
    "First, we need a radex model. This is jus a dictionary with the RADEX inputs as keys. For this example, we'll start by grabbing the default parameters from the radex wrapper. Then we'll increase the CO column density, the linewidth and fmax"
   ]
  },
  {
   "cell_type": "code",
   "execution_count": 2,
   "metadata": {},
   "outputs": [
    {
     "name": "stdout",
     "output_type": "stream",
     "text": [
      "{'molfile': 'co.dat', 'tkin': 30.0, 'tbg': 2.73, 'cdmol': 1e+16, 'h2': 100000.0, 'h': 0.0, 'e-': 0.0, 'p-h2': 0.0, 'o-h2': 0.0, 'h+': 0.0, 'linewidth': 10, 'fmin': 0.0, 'fmax': 300}\n"
     ]
    }
   ],
   "source": [
    "radex_params=spectralradex.radex.get_default_parameters()\n",
    "radex_params[\"fmax\"]=300\n",
    "radex_params[\"linewidth\"]=10\n",
    "radex_params[\"cdmol\"]=1e16\n",
    "\n",
    "print(radex_params)"
   ]
  },
  {
   "cell_type": "markdown",
   "metadata": {},
   "source": [
    "We also need a list of frequencies over which we'd like the spectrum. Here, we'll generate a spectrum with a 50 MHz resolution between 80 and 300 GHz. Getting the model intensities is a simple function call"
   ]
  },
  {
   "cell_type": "code",
   "execution_count": 4,
   "metadata": {},
   "outputs": [],
   "source": [
    "frequencies=np.arange(30,300,0.005)\n",
    "v0=0.0\n",
    "spectrum=spectralradex.calculate_spectrum(frequencies,v0,radex_params)"
   ]
  },
  {
   "cell_type": "code",
   "execution_count": 6,
   "metadata": {},
   "outputs": [
    {
     "data": {
      "text/plain": [
       "[Text(0, 0.5, 'T / K'), (90, 300.6), Text(0.5, 0, 'Frequency / GHz')]"
      ]
     },
     "execution_count": 6,
     "metadata": {},
     "output_type": "execute_result"
    },
    {
     "data": {
      "image/png": "[encoded data removed]",
      "text/plain": [
       "<Figure size 1152x648 with 1 Axes>"
      ]
     },
     "metadata": {
      "needs_background": "light"
     },
     "output_type": "display_data"
    }
   ],
   "source": [
    "fig,ax=plt.subplots(figsize=(16,9))\n",
    "ax.plot(spectrum[\"Frequency\"],spectrum[\"Intensity\"],drawstyle=\"steps-mid\")\n",
    "ax.set(xlim=(90,300.6),xlabel=\"Frequency / GHz\",ylabel=\"T / K\")"
   ]
  },
  {
   "cell_type": "code",
   "execution_count": null,
   "metadata": {},
   "outputs": [],
   "source": []
  }
 ],
 "metadata": {
  "kernelspec": {
   "display_name": "Python 3",
   "language": "python",
   "name": "python3"
  },
  "language_info": {
   "codemirror_mode": {
    "name": "ipython",
    "version": 3
   },
   "file_extension": ".py",
   "mimetype": "text/x-python",
   "name": "python",
   "nbconvert_exporter": "python",
   "pygments_lexer": "ipython3",
   "version": "3.7.6"
  }
 },
 "nbformat": 4,
 "nbformat_minor": 4
}
